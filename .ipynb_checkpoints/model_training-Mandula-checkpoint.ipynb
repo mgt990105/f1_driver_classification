{
 "cells": [
  {
   "cell_type": "markdown",
   "id": "ff04875a-20e1-4f8b-947b-7603e1d3d5d3",
   "metadata": {},
   "source": [
    "# Feature Engineering"
   ]
  },
  {
   "cell_type": "markdown",
   "id": "88fddd9f-041d-40e9-8fa0-a743f51facf0",
   "metadata": {},
   "source": [
    "### Importing libraries"
   ]
  },
  {
   "cell_type": "code",
   "execution_count": 25,
   "id": "09de833d-9c3e-4ac3-9461-459d77cf2ae1",
   "metadata": {},
   "outputs": [],
   "source": [
    "import numpy as np\n",
    "import cv2\n",
    "import matplotlib\n",
    "from matplotlib import pyplot as plt\n",
    "import os\n",
    "import pywt\n",
    "import pandas as pd\n",
    "%matplotlib inline\n",
    "\n",
    "\n",
    "# importing libraries required for model building and \n",
    "\n",
    "from sklearn.svm import SVC\n",
    "from sklearn.preprocessing import StandardScaler\n",
    "from sklearn.model_selection import train_test_split\n",
    "from sklearn.pipeline import Pipeline\n",
    "from sklearn.metrics import classification_report\n",
    "\n",
    "from sklearn import svm\n",
    "from sklearn.ensemble import RandomForestClassifier\n",
    "from sklearn.linear_model import LogisticRegression\n",
    "from sklearn.pipeline import make_pipeline\n",
    "from sklearn.model_selection import GridSearchCV\n",
    "\n",
    "# importing a library for visualization\n",
    "\n",
    "import seaborn as sn\n",
    "\n",
    "# importing libraries to save the ML model and create JSON files\n",
    "\n",
    "import joblib \n",
    "import json\n"
   ]
  },
  {
   "cell_type": "markdown",
   "id": "82603242-55b9-4a91-9100-047d29ac0827",
   "metadata": {},
   "source": [
    "### Creating a list of all folder names"
   ]
  },
  {
   "cell_type": "code",
   "execution_count": 2,
   "id": "6536dc40-0d33-4344-bd0a-92568a31a33d",
   "metadata": {},
   "outputs": [],
   "source": [
    "def list_folders(directory):\n",
    "    folders = []\n",
    "    for entry in os.listdir(directory):\n",
    "        full_path = os.path.join(directory, entry)\n",
    "        if os.path.isdir(full_path):\n",
    "            folders.append(entry)\n",
    "    return folders\n",
    "\n",
    "# Specify the directory you want to list folders from\n",
    "directory_path = 'cropped_images/'\n",
    "\n",
    "# Get the list of folder names\n",
    "folder_names = list_folders(directory_path)\n",
    "\n",
    "# folder_names"
   ]
  },
  {
   "cell_type": "markdown",
   "id": "f41ef224-9e2b-4a50-8325-c49cbdd3b58e",
   "metadata": {},
   "source": [
    "### Creating a dictionary of player name with all the image paths"
   ]
  },
  {
   "cell_type": "code",
   "execution_count": 3,
   "id": "04230b9a-9383-403c-8521-110120f45b81",
   "metadata": {},
   "outputs": [],
   "source": [
    "\n",
    "# Creating a list of folder names of cropped images\n",
    "\n",
    "cropped_folder_list = folder_names\n",
    "\n",
    "folder_path_dict = {'Name':[],\n",
    "                    'Paths':[]}\n",
    "\n",
    "\n",
    "\n",
    "for folder_name in cropped_folder_list:\n",
    "    \n",
    "    list_1 = []\n",
    "\n",
    "    folder_path = 'cropped_images'+'/{}'.format(folder_name)\n",
    "\n",
    "    # Get a list of all files and directories in the specified folder\n",
    "    files_and_directories = os.listdir(folder_path)\n",
    "\n",
    "    # Filter only files (not directories) if needed\n",
    "    files = [f for f in files_and_directories if os.path.isfile(os.path.join(folder_path, f))]\n",
    "\n",
    "    # Now 'files' contains a list of file names in the folder\n",
    "    # You can also get the full paths by using os.path.join() on each file name\n",
    "    file_paths = [os.path.join(folder_path, f) for f in files]\n",
    "    \n",
    "    # changing the folder name into a proper name to be used as the dictionary key\n",
    "    \n",
    "    original_string = folder_name\n",
    "\n",
    "    # Split the string based on underscores\n",
    "    parts = original_string.split('_')\n",
    "\n",
    "    # Join the first two parts with spaces\n",
    "    clean_name = ' '.join(parts[:2])\n",
    "\n",
    "\n",
    "    # Print the file paths\n",
    "    for file_path in file_paths:\n",
    "        list_1.append(file_path)\n",
    "    \n",
    "    folder_path_dict['Name'].append(clean_name)\n",
    "    folder_path_dict['Paths'].append(list_1)\n",
    "    \n",
    "# folder_path_dict"
   ]
  },
  {
   "cell_type": "code",
   "execution_count": 4,
   "id": "365cb9d4-35b1-4eb5-8b39-ceb67d5f19ea",
   "metadata": {},
   "outputs": [
    {
     "data": {
      "text/plain": [
       "['.ipynb checkpoints',\n",
       " 'alex albon',\n",
       " 'carlos sainz',\n",
       " 'charles leclerc',\n",
       " 'daniel ricciardo',\n",
       " 'esteban ocon',\n",
       " 'fernando alonso',\n",
       " 'george russell',\n",
       " 'kevin magnussen',\n",
       " 'lance stroll',\n",
       " 'lando norris',\n",
       " 'lewis hamilton',\n",
       " 'logan sargeant',\n",
       " 'max verstappen',\n",
       " 'nico hulkenberg',\n",
       " 'oscar piastri',\n",
       " 'pierre gasly',\n",
       " 'sergio perez',\n",
       " 'valtteri bottas',\n",
       " 'yuki tsunoda',\n",
       " 'zhou guanyu']"
      ]
     },
     "execution_count": 4,
     "metadata": {},
     "output_type": "execute_result"
    }
   ],
   "source": [
    "# check\n",
    "\n",
    "folder_path_dict['Name']"
   ]
  },
  {
   "cell_type": "code",
   "execution_count": 5,
   "id": "61535d99-6726-4c7b-8a43-0944ca1b4258",
   "metadata": {},
   "outputs": [],
   "source": [
    "# folder_path_dict['Paths']"
   ]
  },
  {
   "cell_type": "markdown",
   "id": "8922ee02-5e58-4043-b23a-0bcfa57f4007",
   "metadata": {},
   "source": [
    "### Converting racer names into numeric classes"
   ]
  },
  {
   "cell_type": "code",
   "execution_count": 6,
   "id": "2ea72906-53d2-4786-9b73-fd9f444b9d36",
   "metadata": {},
   "outputs": [
    {
     "data": {
      "text/plain": [
       "{'.ipynb checkpoints': 0,\n",
       " 'alex albon': 1,\n",
       " 'carlos sainz': 2,\n",
       " 'charles leclerc': 3,\n",
       " 'daniel ricciardo': 4,\n",
       " 'esteban ocon': 5,\n",
       " 'fernando alonso': 6,\n",
       " 'george russell': 7,\n",
       " 'kevin magnussen': 8,\n",
       " 'lance stroll': 9,\n",
       " 'lando norris': 10,\n",
       " 'lewis hamilton': 11,\n",
       " 'logan sargeant': 12,\n",
       " 'max verstappen': 13,\n",
       " 'nico hulkenberg': 14,\n",
       " 'oscar piastri': 15,\n",
       " 'pierre gasly': 16,\n",
       " 'sergio perez': 17,\n",
       " 'valtteri bottas': 18,\n",
       " 'yuki tsunoda': 19,\n",
       " 'zhou guanyu': 20}"
      ]
     },
     "execution_count": 6,
     "metadata": {},
     "output_type": "execute_result"
    }
   ],
   "source": [
    "class_dict = {}\n",
    "\n",
    "count = 0\n",
    "for racer_name in folder_path_dict['Name']:\n",
    "    class_dict[racer_name] = count\n",
    "    count = count + 1\n",
    "    \n",
    "class_dict"
   ]
  },
  {
   "cell_type": "markdown",
   "id": "3feba962-e9ff-4886-9461-1f94efbc0855",
   "metadata": {},
   "source": [
    "### Creating a function for wavelet transforming"
   ]
  },
  {
   "cell_type": "code",
   "execution_count": 7,
   "id": "8bc06b0e-39af-465b-94ab-85f0861aa6d0",
   "metadata": {},
   "outputs": [],
   "source": [
    "def w2d(img, mode='haar', level=1):\n",
    "    imArray = img\n",
    "    #Datatype conversions\n",
    "    #convert to grayscale\n",
    "    imArray = cv2.cvtColor( imArray,cv2.COLOR_RGB2GRAY )\n",
    "    #convert to float\n",
    "    imArray =  np.float32(imArray)   \n",
    "    imArray /= 255;\n",
    "    # compute coefficients \n",
    "    coeffs=pywt.wavedec2(imArray, mode, level=level)\n",
    "\n",
    "    #Process Coefficients\n",
    "    coeffs_H=list(coeffs)  \n",
    "    coeffs_H[0] *= 0;  \n",
    "\n",
    "    # reconstruction\n",
    "    imArray_H=pywt.waverec2(coeffs_H, mode);\n",
    "    imArray_H *= 255;\n",
    "    imArray_H =  np.uint8(imArray_H)\n",
    "\n",
    "    return imArray_H\n"
   ]
  },
  {
   "cell_type": "markdown",
   "id": "47b48c9a-7230-4737-ae66-b2807dc218a8",
   "metadata": {},
   "source": [
    "# Model Improvement Section"
   ]
  },
  {
   "cell_type": "markdown",
   "id": "ed4498b5-70c7-40d8-8026-73190d6b9742",
   "metadata": {},
   "source": [
    "- Raw image resized to 32x32 (m_1)\n",
    "- Raw image resized to 64x64 (m_2)\n",
    "- Histogram equalized image at 64x64 (m_3)\n",
    "- Raw image resized at 64x64 + Histogram equalized image at 64x64 (vertically stacked) (m_4)"
   ]
  },
  {
   "cell_type": "markdown",
   "id": "967db235-fc83-4b19-baab-bdcf0fb16a2c",
   "metadata": {},
   "source": [
    "### Creating the X and y variables for model training"
   ]
  },
  {
   "cell_type": "code",
   "execution_count": 8,
   "id": "92d3d696-d6c4-4931-8550-d126470e29ad",
   "metadata": {},
   "outputs": [],
   "source": [
    "\n",
    "X, y = [], []\n",
    "for racer_name, training_files in zip(folder_path_dict['Name'],folder_path_dict['Paths']):\n",
    "    for training_image in training_files: \n",
    "        # print(racer_name)\n",
    "        # print(training_image)\n",
    "        img = cv2.imread(training_image)\n",
    "        if img is None:\n",
    "            continue\n",
    "        # m_1\n",
    "        scaled_raw_img = cv2.resize(img,(32,32))\n",
    "        \n",
    "        # m_2\n",
    "        # scaled_raw_img = cv2.resize(img,(64,64))\n",
    "        \n",
    "        # m_3\n",
    "        # img_gray = cv2.cvtColor(img, cv2.COLOR_BGR2GRAY)\n",
    "        # equ = cv2.equalizeHist(img_gray)\n",
    "        # scaled_img_hist = cv2.resize(equ, (64, 64))\n",
    "        \n",
    "        # m_4\n",
    "        # combined_img = np.vstack((scaled_raw_img.reshape(64*64*3,1),scaled_img_hist.reshape(64*64,1)))\n",
    "        \n",
    "        \n",
    "        # reshaped final image\n",
    "        \n",
    "        # m_1\n",
    "        final_img = scaled_raw_img.reshape(32*32*3,1)\n",
    "        \n",
    "        # m_2\n",
    "        # final_img = scaled_raw_img.reshape(64*64*3,1) \n",
    "        \n",
    "         # m_3\n",
    "        # final_img = scaled_img_hist.reshape(64*64,1)\n",
    "        \n",
    "        # m_4\n",
    "        \n",
    "        # final_img = combined_img.reshape(64*64*4,1)\n",
    "        \n",
    "        \n",
    "        X.append(final_img)\n",
    "        y.append(class_dict[racer_name]) \n",
    "        "
   ]
  },
  {
   "cell_type": "markdown",
   "id": "caea9cd1-ea5e-4759-b812-c49f36ae0019",
   "metadata": {},
   "source": [
    "### Reshaping X and also updating the numbers to be as float"
   ]
  },
  {
   "cell_type": "code",
   "execution_count": 10,
   "id": "9804421d-de73-4d54-b899-5b44c4220dd0",
   "metadata": {},
   "outputs": [
    {
     "data": {
      "text/plain": [
       "(1895, 3072)"
      ]
     },
     "execution_count": 10,
     "metadata": {},
     "output_type": "execute_result"
    }
   ],
   "source": [
    "X = np.array(X).reshape(len(X),3072).astype(float)\n",
    "X.shape"
   ]
  },
  {
   "cell_type": "markdown",
   "id": "5f2d5849-b644-4cd5-99ca-91d66305a6c4",
   "metadata": {},
   "source": [
    "### <font color=yellow> Explain the shape of the model input (X) and y </font>"
   ]
  },
  {
   "cell_type": "markdown",
   "id": "b9a48e20-1e07-48d0-9836-27f0da463499",
   "metadata": {},
   "source": [
    "## 1. Raw image resized to 32x32"
   ]
  },
  {
   "cell_type": "code",
   "execution_count": 11,
   "id": "874011a1-8a7d-48ab-9fc1-ea0ee1e00be6",
   "metadata": {},
   "outputs": [
    {
     "name": "stdout",
     "output_type": "stream",
     "text": [
      "0.5759493670886076\n"
     ]
    }
   ],
   "source": [
    "X_train, X_test, y_train, y_test = train_test_split(X, y, random_state=0)\n",
    "\n",
    "pipe_1 = Pipeline([('scaler', StandardScaler()), # Step 1: Standardize the data\n",
    "                 ('svc', SVC(kernel = 'rbf', C = 10)) # Step 2: Train a model\n",
    "                ])\n",
    "\n",
    "pipe_1.fit(X_train, y_train)\n",
    "m_1 = pipe_1.score(X_test, y_test)\n",
    "print(m_1)"
   ]
  },
  {
   "cell_type": "markdown",
   "id": "6ee78813-c087-4cd1-b257-b26070a81c14",
   "metadata": {},
   "source": [
    "## 2. Raw image resized to 64x64 (m_2)"
   ]
  },
  {
   "cell_type": "code",
   "execution_count": 13,
   "id": "bd294c29-e00f-42b0-ac9b-58e5f3b6a18f",
   "metadata": {},
   "outputs": [],
   "source": [
    "X, y = [], []\n",
    "for racer_name, training_files in zip(folder_path_dict['Name'],folder_path_dict['Paths']):\n",
    "    for training_image in training_files: \n",
    "        # print(racer_name)\n",
    "        # print(training_image)\n",
    "        img = cv2.imread(training_image)\n",
    "        if img is None:\n",
    "            continue\n",
    "        # m_1\n",
    "        # scaled_raw_img = cv2.resize(img,(32,32))\n",
    "        \n",
    "        # m_2\n",
    "        scaled_raw_img = cv2.resize(img,(64,64))\n",
    "        \n",
    "        # m_3\n",
    "        # img_gray = cv2.cvtColor(img, cv2.COLOR_BGR2GRAY)\n",
    "        # equ = cv2.equalizeHist(img_gray)\n",
    "        # scaled_img_hist = cv2.resize(equ, (64, 64))\n",
    "        \n",
    "        # m_4\n",
    "        # combined_img = np.vstack((scaled_raw_img.reshape(64*64*3,1),scaled_img_hist.reshape(64*64,1)))\n",
    "        \n",
    "        \n",
    "        # reshaped final image\n",
    "        \n",
    "        # m_1\n",
    "        # final_img = scaled_raw_img.reshape(32*32*3,1)\n",
    "        \n",
    "        # m_2\n",
    "        final_img = scaled_raw_img.reshape(64*64*3,1) \n",
    "        \n",
    "         # m_3\n",
    "        # final_img = scaled_img_hist.reshape(64*64,1)\n",
    "        \n",
    "        # m_4\n",
    "        \n",
    "        # final_img = combined_img.reshape(64*64*4,1)\n",
    "        \n",
    "        \n",
    "        X.append(final_img)\n",
    "        y.append(class_dict[racer_name]) \n",
    "        "
   ]
  },
  {
   "cell_type": "code",
   "execution_count": 15,
   "id": "4c8254fa-d0b2-40f3-be31-0d2100664491",
   "metadata": {},
   "outputs": [
    {
     "data": {
      "text/plain": [
       "(1895, 12288)"
      ]
     },
     "execution_count": 15,
     "metadata": {},
     "output_type": "execute_result"
    }
   ],
   "source": [
    "X = np.array(X).reshape(len(X),12288).astype(float)\n",
    "X.shape"
   ]
  },
  {
   "cell_type": "code",
   "execution_count": 16,
   "id": "e6118929-a31b-4e5c-89c5-7effad62909b",
   "metadata": {},
   "outputs": [
    {
     "name": "stdout",
     "output_type": "stream",
     "text": [
      "0.5780590717299579\n"
     ]
    }
   ],
   "source": [
    "X_train, X_test, y_train, y_test = train_test_split(X, y, random_state=0)\n",
    "\n",
    "pipe_2 = Pipeline([('scaler', StandardScaler()), # Step 1: Standardize the data\n",
    "                 ('svc', SVC(kernel = 'rbf', C = 10)) # Step 2: Train a model\n",
    "                ])\n",
    "\n",
    "pipe_2.fit(X_train, y_train)\n",
    "m_2 = pipe_2.score(X_test, y_test)\n",
    "print(m_2)"
   ]
  },
  {
   "cell_type": "markdown",
   "id": "e2fbd3ac-b9c8-4ecf-a156-b10cd8a4ee69",
   "metadata": {},
   "source": [
    "## 3. Histogram equalized image at 64x64 (m_3)"
   ]
  },
  {
   "cell_type": "code",
   "execution_count": 17,
   "id": "d31be171-e7ed-4150-a0c5-a20f8bbd06a2",
   "metadata": {},
   "outputs": [],
   "source": [
    "X, y = [], []\n",
    "for racer_name, training_files in zip(folder_path_dict['Name'],folder_path_dict['Paths']):\n",
    "    for training_image in training_files: \n",
    "        # print(racer_name)\n",
    "        # print(training_image)\n",
    "        img = cv2.imread(training_image)\n",
    "        if img is None:\n",
    "            continue\n",
    "        # m_1\n",
    "        # scaled_raw_img = cv2.resize(img,(32,32))\n",
    "        \n",
    "        # m_2\n",
    "        # scaled_raw_img = cv2.resize(img,(64,64))\n",
    "        \n",
    "        # m_3\n",
    "        img_gray = cv2.cvtColor(img, cv2.COLOR_BGR2GRAY)\n",
    "        equ = cv2.equalizeHist(img_gray)\n",
    "        scaled_img_hist = cv2.resize(equ, (64, 64))\n",
    "        \n",
    "        # m_4\n",
    "        # combined_img = np.vstack((scaled_raw_img.reshape(64*64*3,1),scaled_img_hist.reshape(64*64,1)))\n",
    "        \n",
    "        \n",
    "        # reshaped final image\n",
    "        \n",
    "        # m_1\n",
    "        # final_img = scaled_raw_img.reshape(32*32*3,1)\n",
    "        \n",
    "        # m_2\n",
    "        # final_img = scaled_raw_img.reshape(64*64*3,1) \n",
    "        \n",
    "         # m_3\n",
    "        final_img = scaled_img_hist.reshape(64*64,1)\n",
    "        \n",
    "        # m_4\n",
    "        \n",
    "        # final_img = combined_img.reshape(64*64*4,1)\n",
    "        \n",
    "        \n",
    "        X.append(final_img)\n",
    "        y.append(class_dict[racer_name]) "
   ]
  },
  {
   "cell_type": "code",
   "execution_count": 18,
   "id": "f66de7dd-a17a-4c16-871c-5a7c4fbb8765",
   "metadata": {},
   "outputs": [
    {
     "data": {
      "text/plain": [
       "(1895, 4096)"
      ]
     },
     "execution_count": 18,
     "metadata": {},
     "output_type": "execute_result"
    }
   ],
   "source": [
    "X = np.array(X).reshape(len(X),4096).astype(float)\n",
    "X.shape"
   ]
  },
  {
   "cell_type": "code",
   "execution_count": 19,
   "id": "4f2acfc9-8602-4565-8ad4-c7324e14b1df",
   "metadata": {},
   "outputs": [
    {
     "name": "stdout",
     "output_type": "stream",
     "text": [
      "0.5864978902953587\n"
     ]
    }
   ],
   "source": [
    "X_train, X_test, y_train, y_test = train_test_split(X, y, random_state=0)\n",
    "\n",
    "pipe_3 = Pipeline([('scaler', StandardScaler()), # Step 1: Standardize the data\n",
    "                 ('svc', SVC(kernel = 'rbf', C = 10)) # Step 2: Train a model\n",
    "                ])\n",
    "\n",
    "pipe_3.fit(X_train, y_train)\n",
    "m_3 = pipe_3.score(X_test, y_test)\n",
    "print(m_3)"
   ]
  },
  {
   "cell_type": "markdown",
   "id": "6b51a16d-2abf-4b0f-811a-f4579a335fb0",
   "metadata": {},
   "source": [
    "## 4. Raw image resized at 64x64 + Histogram equalized image at 64x64 (vertically stacked) (m_4)"
   ]
  },
  {
   "cell_type": "code",
   "execution_count": 21,
   "id": "9bb23ab5-b3f8-4080-bc39-635685bb3aa2",
   "metadata": {},
   "outputs": [],
   "source": [
    "X, y = [], []\n",
    "for racer_name, training_files in zip(folder_path_dict['Name'],folder_path_dict['Paths']):\n",
    "    for training_image in training_files: \n",
    "        # print(racer_name)\n",
    "        # print(training_image)\n",
    "        img = cv2.imread(training_image)\n",
    "        if img is None:\n",
    "            continue\n",
    "        # m_1\n",
    "        # scaled_raw_img = cv2.resize(img,(32,32))\n",
    "        \n",
    "        # m_2\n",
    "        # scaled_raw_img = cv2.resize(img,(64,64))\n",
    "        \n",
    "        # m_3\n",
    "        img_gray = cv2.cvtColor(img, cv2.COLOR_BGR2GRAY)\n",
    "        equ = cv2.equalizeHist(img_gray)\n",
    "        scaled_img_hist = cv2.resize(equ, (64, 64))\n",
    "        \n",
    "        # m_4\n",
    "        combined_img = np.vstack((scaled_raw_img.reshape(64*64*3,1),scaled_img_hist.reshape(64*64,1)))\n",
    "        \n",
    "        \n",
    "        # reshaped final image\n",
    "        \n",
    "        # m_1\n",
    "        # final_img = scaled_raw_img.reshape(32*32*3,1)\n",
    "        \n",
    "        # m_2\n",
    "        # final_img = scaled_raw_img.reshape(64*64*3,1) \n",
    "        \n",
    "         # m_3\n",
    "        # final_img = scaled_img_hist.reshape(64*64,1)\n",
    "        \n",
    "        # m_4\n",
    "        \n",
    "        final_img = combined_img.reshape(64*64*4,1)\n",
    "        \n",
    "        \n",
    "        X.append(final_img)\n",
    "        y.append(class_dict[racer_name]) "
   ]
  },
  {
   "cell_type": "code",
   "execution_count": 22,
   "id": "7766ec70-dbc1-4c59-aecb-f31e89f46c14",
   "metadata": {},
   "outputs": [
    {
     "data": {
      "text/plain": [
       "(1895, 16384)"
      ]
     },
     "execution_count": 22,
     "metadata": {},
     "output_type": "execute_result"
    }
   ],
   "source": [
    "X = np.array(X).reshape(len(X),16384).astype(float)\n",
    "X.shape"
   ]
  },
  {
   "cell_type": "code",
   "execution_count": 23,
   "id": "c94e0e6a-b372-4e5d-bde0-08fe6168f9b0",
   "metadata": {},
   "outputs": [],
   "source": [
    "X_train, X_test, y_train, y_test = train_test_split(X, y, random_state=0)\n",
    "\n",
    "pipe_4 = Pipeline([('scaler', StandardScaler()), # Step 1: Standardize the data\n",
    "                 ('svc', SVC(kernel = 'rbf', C = 10)) # Step 2: Train a model\n",
    "                ])\n",
    "\n",
    "pipe_4.fit(X_train, y_train)\n",
    "m_4 = pipe_4.score(X_test, y_test)"
   ]
  },
  {
   "cell_type": "code",
   "execution_count": null,
   "id": "57fd57a2-d162-42e3-8bf5-0c93ae975a72",
   "metadata": {},
   "outputs": [],
   "source": []
  },
  {
   "cell_type": "code",
   "execution_count": 26,
   "id": "47f03c3b-5974-4258-b47b-0914a590357c",
   "metadata": {},
   "outputs": [
    {
     "name": "stdout",
     "output_type": "stream",
     "text": [
      "  Method  Prediction Scores\n",
      "0    m_1           0.575949\n",
      "1    m_2           0.578059\n",
      "2    m_3           0.586498\n",
      "3    m_4           0.586498\n"
     ]
    }
   ],
   "source": [
    "## Creating a summary table of all the methods used and their performance\n",
    "\n",
    "methods = [\"m_1\", \"m_2\", \"m_3\",\"m_4\"]\n",
    "prediction_scores = [m_1, m_2, m_3, m_4]\n",
    "\n",
    "# Create a DataFrame\n",
    "df = pd.DataFrame({\"Method\": methods, \"Prediction Scores\": prediction_scores})\n",
    "\n",
    "# Display the DataFrame\n",
    "print(df)"
   ]
  },
  {
   "cell_type": "code",
   "execution_count": null,
   "id": "47486185-5e78-46bf-bb56-4f1fee7819af",
   "metadata": {},
   "outputs": [],
   "source": []
  },
  {
   "cell_type": "markdown",
   "id": "fe7343f6-3a6b-4df1-a6b1-0bc2ed1007ea",
   "metadata": {},
   "source": [
    "## Create a classification report that provides precision, recall, and F1-score"
   ]
  },
  {
   "cell_type": "code",
   "execution_count": 27,
   "id": "f6d3b7e1-38fb-4cea-ace9-97b912f19ea6",
   "metadata": {},
   "outputs": [
    {
     "name": "stdout",
     "output_type": "stream",
     "text": [
      "              precision    recall  f1-score   support\n",
      "\n",
      "           1       0.57      0.63      0.60        38\n",
      "           2       0.65      0.57      0.61        30\n",
      "           3       0.62      0.62      0.62        29\n",
      "           4       0.67      0.53      0.59        34\n",
      "           5       0.67      0.58      0.62        24\n",
      "           6       0.50      0.38      0.43        24\n",
      "           7       0.50      0.56      0.53        25\n",
      "           8       0.58      0.78      0.67        18\n",
      "           9       0.44      0.74      0.55        23\n",
      "          10       0.59      0.61      0.60        31\n",
      "          11       0.45      0.56      0.50        18\n",
      "          12       0.71      0.50      0.59        30\n",
      "          13       0.75      0.43      0.55        14\n",
      "          14       0.71      0.67      0.69        18\n",
      "          15       0.56      0.92      0.70        24\n",
      "          16       0.78      0.50      0.61        28\n",
      "          17       0.42      0.53      0.47        19\n",
      "          18       0.67      0.29      0.40        14\n",
      "          19       0.79      0.69      0.73        16\n",
      "          20       0.53      0.59      0.56        17\n",
      "\n",
      "    accuracy                           0.59       474\n",
      "   macro avg       0.61      0.58      0.58       474\n",
      "weighted avg       0.61      0.59      0.58       474\n",
      "\n"
     ]
    }
   ],
   "source": [
    "print(classification_report(y_test, pipe_4.predict(X_test)))"
   ]
  },
  {
   "cell_type": "code",
   "execution_count": null,
   "id": "a7862fe4-f00d-45c3-b53c-08c8693a8a10",
   "metadata": {},
   "outputs": [],
   "source": [
    "# seems like the best we can get is 59% accuracy \n",
    "# we might have to explore CNN \n",
    "\n",
    "# - https://www.youtube.com/watch?v=7HPwo4wnJeA\n",
    "# - https://www.codemag.com/Article/2205081/Implementing-Face-Recognition-Using-Deep-Learning-and-Support-Vector-Machines\n",
    "# - https://thinkingneuron.com/face-recognition-using-deep-learning-cnn-in-python/\n"
   ]
  },
  {
   "cell_type": "code",
   "execution_count": null,
   "id": "a4f0aef0-10c9-45d6-b58f-a5ad3e3d1d78",
   "metadata": {},
   "outputs": [],
   "source": [
    "break"
   ]
  },
  {
   "cell_type": "markdown",
   "id": "b40ad267-3e6e-4a85-a8af-7fedd7ba0333",
   "metadata": {},
   "source": [
    "### Hyperparameter Tuning (SVM vs Random Forest vs Logistic Regression)"
   ]
  },
  {
   "cell_type": "code",
   "execution_count": null,
   "id": "598e75f7-f8aa-4a74-9ddd-e9db6ebfdb93",
   "metadata": {},
   "outputs": [],
   "source": [
    "model_params = {\n",
    "    'svm': {\n",
    "        'model': svm.SVC(gamma='auto',probability=True),\n",
    "        'params' : {\n",
    "            'svc__C': [1,10,100,1000],\n",
    "            'svc__kernel': ['rbf','linear']\n",
    "        }  \n",
    "    },\n",
    "    'random_forest': {\n",
    "        'model': RandomForestClassifier(),\n",
    "        'params' : {\n",
    "            'randomforestclassifier__n_estimators': [1,5,10]\n",
    "        }\n",
    "    },\n",
    "    'logistic_regression' : {\n",
    "        'model': LogisticRegression(solver='liblinear',multi_class='auto'),\n",
    "        'params': {\n",
    "            'logisticregression__C': [1,5,10]\n",
    "        }\n",
    "    }\n",
    "}"
   ]
  },
  {
   "cell_type": "markdown",
   "id": "28383b37-80d1-45bf-adf5-cda7754a76ec",
   "metadata": {},
   "source": [
    "### Creating a dataframe to compare the best performing model"
   ]
  },
  {
   "cell_type": "code",
   "execution_count": null,
   "id": "68a59e1d-676b-4b12-9593-a5f2e8fa4d3b",
   "metadata": {},
   "outputs": [],
   "source": []
  },
  {
   "cell_type": "code",
   "execution_count": null,
   "id": "a1413c27-e33d-44d4-bd81-6936b0933f56",
   "metadata": {},
   "outputs": [],
   "source": [
    "scores = []\n",
    "best_estimators = {}\n",
    "import pandas as pd\n",
    "for algo, mp in model_params.items():\n",
    "    pipe = make_pipeline(StandardScaler(), mp['model'])\n",
    "    clf =  GridSearchCV(pipe, mp['params'], cv=5, return_train_score=False)\n",
    "    clf.fit(X_train, y_train)\n",
    "    scores.append({\n",
    "        'model': algo,\n",
    "        'best_score': clf.best_score_,\n",
    "        'best_params': clf.best_params_\n",
    "    })\n",
    "    best_estimators[algo] = clf.best_estimator_\n",
    "    \n",
    "df = pd.DataFrame(scores,columns=['model','best_score','best_params'])\n",
    "df"
   ]
  },
  {
   "cell_type": "code",
   "execution_count": null,
   "id": "a150f261-5063-44b1-ad8b-4f596fbf8545",
   "metadata": {},
   "outputs": [],
   "source": [
    "best_estimators"
   ]
  },
  {
   "cell_type": "markdown",
   "id": "215625a1-1796-4ebc-9f96-73148eb7e32e",
   "metadata": {},
   "source": [
    "### Validation set vs Test data set"
   ]
  },
  {
   "attachments": {
    "720a985d-1abb-4f4b-9d49-08539c3982d5.png": {
     "image/png": "[encoded data removed]"
    }
   },
   "cell_type": "markdown",
   "id": "ffdf4a04-4acc-4a82-ba4f-c80f20ed0c6a",
   "metadata": {},
   "source": [
    "![image.png](attachment:720a985d-1abb-4f4b-9d49-08539c3982d5.png)"
   ]
  },
  {
   "attachments": {
    "245fcbb4-8aa1-4125-a8e1-7b555cf22fc3.png": {
     "image/png": "[encoded data removed]"
    }
   },
   "cell_type": "markdown",
   "id": "788f2127-4ba3-4405-a431-7438f4e8efe4",
   "metadata": {},
   "source": [
    "![image.png](attachment:245fcbb4-8aa1-4125-a8e1-7b555cf22fc3.png)"
   ]
  },
  {
   "cell_type": "code",
   "execution_count": null,
   "id": "d91954ed-cb8c-4acf-b163-ca44a9778b21",
   "metadata": {},
   "outputs": [],
   "source": [
    "break"
   ]
  },
  {
   "cell_type": "markdown",
   "id": "d62af034-87fd-4e01-8394-a41fc55bbb12",
   "metadata": {},
   "source": [
    "### Testing the model performance with the test data set (not the validation data set as done in the hyperparemeter tuning step)"
   ]
  },
  {
   "cell_type": "code",
   "execution_count": null,
   "id": "903ee5b3-2db6-4dc3-8462-871c31733dd2",
   "metadata": {},
   "outputs": [],
   "source": [
    "best_estimators['svm'].score(X_test,y_test)"
   ]
  },
  {
   "cell_type": "code",
   "execution_count": null,
   "id": "1c13cad5-d4e5-4155-9f55-698e2bbfd99c",
   "metadata": {},
   "outputs": [],
   "source": [
    "best_estimators['random_forest'].score(X_test,y_test)"
   ]
  },
  {
   "cell_type": "code",
   "execution_count": null,
   "id": "90247610-9b32-4009-887d-07293351a8a8",
   "metadata": {},
   "outputs": [],
   "source": [
    "best_estimators['logistic_regression'].score(X_test,y_test)"
   ]
  },
  {
   "cell_type": "markdown",
   "id": "6b25eb1f-e4df-4d6b-820b-10a7fccfd1fd",
   "metadata": {},
   "source": [
    "### Choosing the best performing model"
   ]
  },
  {
   "cell_type": "code",
   "execution_count": null,
   "id": "62b934f8-cbea-496d-a396-67657bb470f3",
   "metadata": {},
   "outputs": [],
   "source": [
    "\n",
    "\n",
    "best_clf = best_estimators['svm']\n"
   ]
  },
  {
   "cell_type": "code",
   "execution_count": null,
   "id": "93b2e36f-85bb-4338-aca5-c3e32a5f7a2d",
   "metadata": {},
   "outputs": [],
   "source": [
    "best_clf.predict(X_test)"
   ]
  },
  {
   "cell_type": "code",
   "execution_count": null,
   "id": "0bf92e1a-c2b7-4eb6-bf57-a9fac378df1a",
   "metadata": {},
   "outputs": [],
   "source": [
    "X_test[5]\n"
   ]
  },
  {
   "cell_type": "code",
   "execution_count": null,
   "id": "e8804c9e-7301-4e52-a5e6-c4401fe58f15",
   "metadata": {},
   "outputs": [],
   "source": [
    "best_clf.predict(X_test[5].reshape(1,-1))"
   ]
  },
  {
   "cell_type": "markdown",
   "id": "7795f05b-2996-4b5f-9ea5-469c97020f82",
   "metadata": {},
   "source": [
    "### Plotting the confusion matrix"
   ]
  },
  {
   "cell_type": "code",
   "execution_count": null,
   "id": "fda8058b-3ead-4922-855b-738e026ca928",
   "metadata": {},
   "outputs": [],
   "source": [
    "\n",
    "\n",
    "from sklearn.metrics import confusion_matrix\n",
    "cm = confusion_matrix(y_test, best_clf.predict(X_test))\n",
    "cm\n",
    "\n"
   ]
  },
  {
   "cell_type": "code",
   "execution_count": null,
   "id": "8b37dcd4-43e8-40e2-a9be-f259603354f3",
   "metadata": {},
   "outputs": [],
   "source": [
    "\n",
    "plt.figure(figsize = (10,7))\n",
    "sn.heatmap(cm, annot=True)\n",
    "plt.xlabel('Predicted')\n",
    "plt.ylabel('Actual')"
   ]
  },
  {
   "cell_type": "code",
   "execution_count": null,
   "id": "6874e23e-e37b-4bef-8538-675abdecb603",
   "metadata": {},
   "outputs": [],
   "source": [
    "class_dict"
   ]
  },
  {
   "cell_type": "markdown",
   "id": "7033bb71-3b65-4d18-92a5-40d993b41f2b",
   "metadata": {},
   "source": [
    "### Saving the model as pickle file  and create a class dictionary as a JSON file"
   ]
  },
  {
   "cell_type": "code",
   "execution_count": null,
   "id": "6791f4a3-5dac-4c3e-868f-e7386184a90c",
   "metadata": {},
   "outputs": [],
   "source": [
    "# Save the model as a pickle in a file \n",
    "import pickle\n",
    "\n",
    "pickle.dump(best_clf, open('saved_model.pkl', 'wb'))"
   ]
  },
  {
   "cell_type": "code",
   "execution_count": null,
   "id": "329d9b1b-0c73-4cea-8025-260efc12ab99",
   "metadata": {},
   "outputs": [],
   "source": [
    "with open(\"class_dictionary.json\",\"w\") as f:\n",
    "    f.write(json.dumps(class_dict))\n",
    "\n"
   ]
  }
 ],
 "metadata": {
  "kernelspec": {
   "display_name": "Python 3 (ipykernel)",
   "language": "python",
   "name": "python3"
  },
  "language_info": {
   "codemirror_mode": {
    "name": "ipython",
    "version": 3
   },
   "file_extension": ".py",
   "mimetype": "text/x-python",
   "name": "python",
   "nbconvert_exporter": "python",
   "pygments_lexer": "ipython3",
   "version": "3.9.12"
  }
 },
 "nbformat": 4,
 "nbformat_minor": 5
}
