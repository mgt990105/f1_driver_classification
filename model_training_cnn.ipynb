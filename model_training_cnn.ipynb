{
 "cells": [
  {
   "cell_type": "markdown",
   "id": "ec11543c-8629-4974-afda-010c6d0fc820",
   "metadata": {},
   "source": [
    "### Importing libraries"
   ]
  },
  {
   "cell_type": "code",
   "execution_count": 101,
   "id": "b0774dc5-f082-4be2-9438-b190239b2b0a",
   "metadata": {},
   "outputs": [
    {
     "name": "stdout",
     "output_type": "stream",
     "text": [
      "Collecting bayesian-optimization\n",
      "  Downloading bayesian_optimization-1.4.3-py3-none-any.whl (18 kB)\n",
      "Requirement already satisfied: numpy>=1.9.0 in c:\\anaconda\\lib\\site-packages (from bayesian-optimization) (1.21.5)\n",
      "Requirement already satisfied: scipy>=1.0.0 in c:\\anaconda\\lib\\site-packages (from bayesian-optimization) (1.7.3)\n",
      "Requirement already satisfied: colorama>=0.4.6 in c:\\anaconda\\lib\\site-packages (from bayesian-optimization) (0.4.6)\n",
      "Requirement already satisfied: scikit-learn>=0.18.0 in c:\\anaconda\\lib\\site-packages (from bayesian-optimization) (1.0.2)\n",
      "Requirement already satisfied: joblib>=0.11 in c:\\anaconda\\lib\\site-packages (from scikit-learn>=0.18.0->bayesian-optimization) (1.1.0)\n",
      "Requirement already satisfied: threadpoolctl>=2.0.0 in c:\\anaconda\\lib\\site-packages (from scikit-learn>=0.18.0->bayesian-optimization) (2.2.0)\n",
      "Installing collected packages: bayesian-optimization\n",
      "Successfully installed bayesian-optimization-1.4.3\n"
     ]
    }
   ],
   "source": [
    "# !pip install bayesian-optimization"
   ]
  },
  {
   "cell_type": "code",
   "execution_count": 102,
   "id": "c8de16fd-762d-4984-bab0-5e38050f287d",
   "metadata": {},
   "outputs": [],
   "source": [
    "import numpy as np\n",
    "import cv2\n",
    "import matplotlib\n",
    "from matplotlib import pyplot as plt\n",
    "import os\n",
    "import pywt\n",
    "import pandas as pd\n",
    "%matplotlib inline\n",
    "\n",
    "\n",
    "# importing libraries required for model building and \n",
    "\n",
    "from sklearn.svm import SVC\n",
    "from sklearn.preprocessing import StandardScaler\n",
    "from sklearn.model_selection import train_test_split\n",
    "from sklearn.pipeline import Pipeline\n",
    "from sklearn.metrics import classification_report\n",
    "\n",
    "from sklearn import svm\n",
    "from sklearn.ensemble import RandomForestClassifier\n",
    "from sklearn.linear_model import LogisticRegression\n",
    "from sklearn.pipeline import make_pipeline\n",
    "from sklearn.model_selection import GridSearchCV\n",
    "\n",
    "\n",
    "# importing a library for visualization\n",
    "\n",
    "import seaborn as sn\n",
    "\n",
    "\n",
    "# importing libraries to save the ML model and create JSON files\n",
    "\n",
    "import joblib \n",
    "import json\n",
    "\n",
    "\n",
    "# deep learning packages\n",
    "\n",
    "import tensorflow as tf\n",
    "from tensorflow.keras import datasets, layers, models\n",
    "\n",
    "\n",
    "# CNN Hyperparameter Tuning\n",
    "\n",
    "\n",
    "import seaborn as sns\n",
    "from sklearn.model_selection import cross_val_score\n",
    "from keras.models import Sequential\n",
    "from keras.layers import Dense, BatchNormalization, Dropout\n",
    "from keras.optimizers import Adam, SGD, RMSprop, Adadelta, Adagrad, Adamax, Nadam, Ftrl\n",
    "from keras.callbacks import EarlyStopping, ModelCheckpoint\n",
    "from keras.wrappers.scikit_learn import KerasClassifier\n",
    "from math import floor\n",
    "from sklearn.metrics import make_scorer, accuracy_score\n",
    "from bayes_opt import BayesianOptimization\n",
    "from sklearn.model_selection import StratifiedKFold\n",
    "from keras.layers import LeakyReLU\n",
    "LeakyReLU = LeakyReLU(alpha=0.1)\n",
    "import warnings\n",
    "warnings.filterwarnings('ignore')\n",
    "pd.set_option(\"display.max_columns\", None)\n"
   ]
  },
  {
   "cell_type": "markdown",
   "id": "4af7e25a-7957-4e0b-9e07-3123df784abc",
   "metadata": {},
   "source": [
    "### Creating a list of all folder names"
   ]
  },
  {
   "cell_type": "code",
   "execution_count": 2,
   "id": "bbcea453-262d-45bd-81e7-b012ea2bf4d5",
   "metadata": {},
   "outputs": [],
   "source": [
    "def list_folders(directory):\n",
    "    folders = []\n",
    "    for entry in os.listdir(directory):\n",
    "        full_path = os.path.join(directory, entry)\n",
    "        if os.path.isdir(full_path):\n",
    "            folders.append(entry)\n",
    "    return folders\n",
    "\n",
    "# Specify the directory you want to list folders from\n",
    "directory_path = 'cropped_images/'\n",
    "\n",
    "# Get the list of folder names\n",
    "folder_names = list_folders(directory_path)\n",
    "\n",
    "# folder_names"
   ]
  },
  {
   "cell_type": "markdown",
   "id": "fcfdd73b-98c9-43d8-ba44-84009537c71c",
   "metadata": {},
   "source": [
    "### Creating a dictionary of player name with all the image paths"
   ]
  },
  {
   "cell_type": "code",
   "execution_count": 3,
   "id": "4ad5ebf6-99b9-4606-bf57-2ff4da1d61d8",
   "metadata": {},
   "outputs": [],
   "source": [
    "\n",
    "# Creating a list of folder names of cropped images\n",
    "\n",
    "cropped_folder_list = folder_names\n",
    "\n",
    "folder_path_dict = {'Name':[],\n",
    "                    'Paths':[]}\n",
    "\n",
    "\n",
    "\n",
    "for folder_name in cropped_folder_list:\n",
    "    \n",
    "    list_1 = []\n",
    "\n",
    "    folder_path = 'cropped_images'+'/{}'.format(folder_name)\n",
    "\n",
    "    # Get a list of all files and directories in the specified folder\n",
    "    files_and_directories = os.listdir(folder_path)\n",
    "\n",
    "    # Filter only files (not directories) if needed\n",
    "    files = [f for f in files_and_directories if os.path.isfile(os.path.join(folder_path, f))]\n",
    "\n",
    "    # Now 'files' contains a list of file names in the folder\n",
    "    # You can also get the full paths by using os.path.join() on each file name\n",
    "    file_paths = [os.path.join(folder_path, f) for f in files]\n",
    "    \n",
    "    # changing the folder name into a proper name to be used as the dictionary key\n",
    "    \n",
    "    original_string = folder_name\n",
    "\n",
    "    # Split the string based on underscores\n",
    "    parts = original_string.split('_')\n",
    "\n",
    "    # Join the first two parts with spaces\n",
    "    clean_name = ' '.join(parts[:2])\n",
    "\n",
    "\n",
    "    # Print the file paths\n",
    "    for file_path in file_paths:\n",
    "        list_1.append(file_path)\n",
    "    \n",
    "    folder_path_dict['Name'].append(clean_name)\n",
    "    folder_path_dict['Paths'].append(list_1)\n",
    "    \n",
    "# folder_path_dict"
   ]
  },
  {
   "cell_type": "code",
   "execution_count": 4,
   "id": "eb9e4e70-982a-4761-922b-94bbaa64676c",
   "metadata": {},
   "outputs": [
    {
     "data": {
      "text/plain": [
       "['alex albon',\n",
       " 'carlos sainz',\n",
       " 'charles leclerc',\n",
       " 'daniel ricciardo',\n",
       " 'esteban ocon',\n",
       " 'fernando alonso',\n",
       " 'george russell',\n",
       " 'kevin magnussen',\n",
       " 'lance stroll',\n",
       " 'lando norris',\n",
       " 'lewis hamilton',\n",
       " 'logan sargeant',\n",
       " 'max verstappen',\n",
       " 'nico hulkenberg',\n",
       " 'oscar piastri',\n",
       " 'pierre gasly',\n",
       " 'sergio perez',\n",
       " 'valtteri bottas',\n",
       " 'yuki tsunoda',\n",
       " 'zhou guanyu']"
      ]
     },
     "execution_count": 4,
     "metadata": {},
     "output_type": "execute_result"
    }
   ],
   "source": [
    "# check\n",
    "\n",
    "folder_path_dict['Name']"
   ]
  },
  {
   "cell_type": "markdown",
   "id": "13027ec2-1440-4458-96f6-fce61132b3ea",
   "metadata": {},
   "source": [
    "### Converting racer names into numeric classes"
   ]
  },
  {
   "cell_type": "code",
   "execution_count": 5,
   "id": "603db0db-b0c6-429f-b4e0-06c646b2ca50",
   "metadata": {},
   "outputs": [
    {
     "data": {
      "text/plain": [
       "{'alex albon': 0,\n",
       " 'carlos sainz': 1,\n",
       " 'charles leclerc': 2,\n",
       " 'daniel ricciardo': 3,\n",
       " 'esteban ocon': 4,\n",
       " 'fernando alonso': 5,\n",
       " 'george russell': 6,\n",
       " 'kevin magnussen': 7,\n",
       " 'lance stroll': 8,\n",
       " 'lando norris': 9,\n",
       " 'lewis hamilton': 10,\n",
       " 'logan sargeant': 11,\n",
       " 'max verstappen': 12,\n",
       " 'nico hulkenberg': 13,\n",
       " 'oscar piastri': 14,\n",
       " 'pierre gasly': 15,\n",
       " 'sergio perez': 16,\n",
       " 'valtteri bottas': 17,\n",
       " 'yuki tsunoda': 18,\n",
       " 'zhou guanyu': 19}"
      ]
     },
     "execution_count": 5,
     "metadata": {},
     "output_type": "execute_result"
    }
   ],
   "source": [
    "class_dict = {}\n",
    "\n",
    "count = 0\n",
    "for racer_name in folder_path_dict['Name']:\n",
    "    class_dict[racer_name] = count\n",
    "    count = count + 1\n",
    "    \n",
    "class_dict"
   ]
  },
  {
   "cell_type": "markdown",
   "id": "6125e605-315f-47e1-b9d9-edd36110ada7",
   "metadata": {},
   "source": [
    "### Creating a function to print sample images to test out"
   ]
  },
  {
   "cell_type": "code",
   "execution_count": 6,
   "id": "46059f0e-f9e5-4931-b80b-7b3c2377e1cf",
   "metadata": {},
   "outputs": [],
   "source": [
    "def get_key_from_value(dictionary, value):\n",
    "    for key, val in dictionary.items():\n",
    "        if val == value:\n",
    "            return key\n",
    "    return None  # If value is not found in the dictionary"
   ]
  },
  {
   "cell_type": "code",
   "execution_count": 7,
   "id": "e69c9f2a-a599-432c-9976-071ed8c4ac35",
   "metadata": {},
   "outputs": [],
   "source": [
    "def plot_sample(X,y, dicti,index):\n",
    "    plt.figure(figsize = (15,3))\n",
    "    plt.imshow(X[index])\n",
    "    plt.xlabel(get_key_from_value(dicti,y[index]))"
   ]
  },
  {
   "cell_type": "markdown",
   "id": "c59c51f0-6d0e-417f-b2d7-1ba47921d5af",
   "metadata": {},
   "source": [
    "## <font color='yellow'> CNN Model Building <font>"
   ]
  },
  {
   "cell_type": "markdown",
   "id": "9202e54f-de83-408e-bf13-17cba2e4d6ce",
   "metadata": {},
   "source": [
    "### Creating the X and y variables for model training"
   ]
  },
  {
   "cell_type": "code",
   "execution_count": 8,
   "id": "06c7174b-7e23-4fa6-a3ee-351a25b6dc38",
   "metadata": {},
   "outputs": [],
   "source": [
    "\n",
    "X, y = [], []\n",
    "for racer_name, training_files in zip(folder_path_dict['Name'],folder_path_dict['Paths']):\n",
    "    for training_image in training_files: \n",
    "        # print(racer_name)\n",
    "        # print(training_image)\n",
    "        img = cv2.imread(training_image)\n",
    "        if img is None:\n",
    "            continue\n",
    "        \n",
    "        scaled_raw_img = cv2.resize(img,(64,64))\n",
    "\n",
    "        # final_img = scaled_raw_img.reshape(32*32*3,1)\n",
    "        final_img = scaled_raw_img\n",
    "        \n",
    "        \n",
    "        \n",
    "        X.append(final_img)\n",
    "        y.append(class_dict[racer_name]) \n"
   ]
  },
  {
   "cell_type": "markdown",
   "id": "100bc18e-7c70-4743-9f96-fed1148724d2",
   "metadata": {},
   "source": [
    "### Converting lists to arrays"
   ]
  },
  {
   "cell_type": "code",
   "execution_count": 9,
   "id": "e1c1b3b4-dae4-4d93-a623-ec8b360ac846",
   "metadata": {},
   "outputs": [],
   "source": [
    "X = np.array(X)\n",
    "# X.shape"
   ]
  },
  {
   "cell_type": "code",
   "execution_count": 10,
   "id": "d4cc802a-5620-4fd3-a1a3-cf5e30e14cea",
   "metadata": {},
   "outputs": [],
   "source": [
    "y = np.array(y)\n",
    "# y.shape"
   ]
  },
  {
   "cell_type": "code",
   "execution_count": 11,
   "id": "99018af5-81d4-4198-8991-0ff6207d6328",
   "metadata": {},
   "outputs": [],
   "source": [
    "X_train, X_test, y_train, y_test = train_test_split(X, y, random_state=0)\n",
    "\n",
    "# train + split changes the order of the given X and y"
   ]
  },
  {
   "cell_type": "code",
   "execution_count": 12,
   "id": "45047cb8-11ae-48a3-9410-b58cfc5ca0f6",
   "metadata": {},
   "outputs": [
    {
     "data": {
      "text/plain": [
       "(1421, 64, 64, 3)"
      ]
     },
     "execution_count": 12,
     "metadata": {},
     "output_type": "execute_result"
    }
   ],
   "source": [
    "X_train.shape"
   ]
  },
  {
   "cell_type": "code",
   "execution_count": 13,
   "id": "17c203d9-11a1-4dce-978a-91bf5fb737d2",
   "metadata": {},
   "outputs": [
    {
     "data": {
      "text/plain": [
       "(1421,)"
      ]
     },
     "execution_count": 13,
     "metadata": {},
     "output_type": "execute_result"
    }
   ],
   "source": [
    "y_train.shape"
   ]
  },
  {
   "cell_type": "code",
   "execution_count": 15,
   "id": "050c32fa-421c-471a-b248-8c98dc6cb4e6",
   "metadata": {},
   "outputs": [],
   "source": [
    "# break"
   ]
  },
  {
   "cell_type": "markdown",
   "id": "90717a56-b3cf-4231-af3c-aaacffd3da5c",
   "metadata": {},
   "source": [
    "### Normalizing the X data"
   ]
  },
  {
   "cell_type": "code",
   "execution_count": 16,
   "id": "1e8a9846-6c87-4d08-ad18-7b23068bb60d",
   "metadata": {},
   "outputs": [],
   "source": [
    "X_train = X_train / 255.0\n",
    "X_test = X_test / 255.0"
   ]
  },
  {
   "cell_type": "code",
   "execution_count": null,
   "id": "0594cded-66c8-4651-a69f-cd1d44d3c86c",
   "metadata": {},
   "outputs": [],
   "source": []
  },
  {
   "cell_type": "code",
   "execution_count": 17,
   "id": "c7475c51-d685-4b00-b7d2-d6ed65e87271",
   "metadata": {},
   "outputs": [],
   "source": [
    "### Building the convolutional neural network"
   ]
  },
  {
   "cell_type": "code",
   "execution_count": 18,
   "id": "ece3c842-ddb3-4144-9d7e-a2997bdcbabb",
   "metadata": {},
   "outputs": [],
   "source": [
    "# creating layers of the neural network\n",
    "\n",
    "cnn = models.Sequential([\n",
    "    layers.Conv2D(filters=32, kernel_size=(3, 3), activation='relu', input_shape=(64, 64, 3)),\n",
    "    layers.MaxPooling2D((2, 2)),\n",
    "    \n",
    "    layers.Conv2D(filters=64, kernel_size=(3, 3), activation='relu'),\n",
    "    layers.MaxPooling2D((2, 2)),\n",
    "    \n",
    "    layers.Flatten(),\n",
    "    layers.Dense(64, activation='relu'),\n",
    "    layers.Dense(20, activation='softmax')\n",
    "])"
   ]
  },
  {
   "cell_type": "code",
   "execution_count": 19,
   "id": "ebec0d0e-595a-443c-b6b5-7c9bd5a49a2d",
   "metadata": {},
   "outputs": [],
   "source": [
    "# compiling the cnn\n",
    "\n",
    "cnn.compile(optimizer='adam',\n",
    "              loss='sparse_categorical_crossentropy',\n",
    "              metrics=['accuracy'])"
   ]
  },
  {
   "cell_type": "code",
   "execution_count": 22,
   "id": "bb8db460-1702-4602-8239-5dbb0f32d5f6",
   "metadata": {},
   "outputs": [
    {
     "name": "stdout",
     "output_type": "stream",
     "text": [
      "Epoch 1/10\n",
      "45/45 [==============================] - 4s 79ms/step - loss: 0.0437 - accuracy: 0.9965\n",
      "Epoch 2/10\n",
      "45/45 [==============================] - 4s 79ms/step - loss: 0.0294 - accuracy: 0.9972\n",
      "Epoch 3/10\n",
      "45/45 [==============================] - 4s 80ms/step - loss: 0.0275 - accuracy: 0.9979\n",
      "Epoch 4/10\n",
      "45/45 [==============================] - 3s 76ms/step - loss: 0.0188 - accuracy: 0.9986\n",
      "Epoch 5/10\n",
      "45/45 [==============================] - 3s 75ms/step - loss: 0.0192 - accuracy: 0.9986\n",
      "Epoch 6/10\n",
      "45/45 [==============================] - 4s 78ms/step - loss: 0.0148 - accuracy: 0.9986\n",
      "Epoch 7/10\n",
      "45/45 [==============================] - 3s 77ms/step - loss: 0.0098 - accuracy: 0.9993\n",
      "Epoch 8/10\n",
      "45/45 [==============================] - 3s 77ms/step - loss: 0.0149 - accuracy: 0.9979\n",
      "Epoch 9/10\n",
      "45/45 [==============================] - 3s 77ms/step - loss: 0.0165 - accuracy: 0.9986\n",
      "Epoch 10/10\n",
      "45/45 [==============================] - 4s 78ms/step - loss: 0.0076 - accuracy: 0.9993\n"
     ]
    },
    {
     "data": {
      "text/plain": [
       "<keras.callbacks.History at 0x1db664b40a0>"
      ]
     },
     "execution_count": 22,
     "metadata": {},
     "output_type": "execute_result"
    }
   ],
   "source": [
    "# fitting the cnn model\n",
    "\n",
    "cnn.fit(X_train, y_train, epochs=10)"
   ]
  },
  {
   "cell_type": "code",
   "execution_count": 23,
   "id": "b516a87e-31d4-4055-981b-a03338df0d6b",
   "metadata": {},
   "outputs": [
    {
     "name": "stdout",
     "output_type": "stream",
     "text": [
      "15/15 [==============================] - 1s 34ms/step - loss: 1.2961 - accuracy: 0.7236\n"
     ]
    },
    {
     "data": {
      "text/plain": [
       "[1.2961204051971436, 0.7236286997795105]"
      ]
     },
     "execution_count": 23,
     "metadata": {},
     "output_type": "execute_result"
    }
   ],
   "source": [
    "# evaluating the cnn model\n",
    "\n",
    "cnn.evaluate(X_test,y_test)"
   ]
  },
  {
   "cell_type": "code",
   "execution_count": null,
   "id": "e589d9a7-fc46-4c7c-b239-60a07695909b",
   "metadata": {},
   "outputs": [],
   "source": []
  },
  {
   "cell_type": "markdown",
   "id": "18a3b5f7-3b15-446a-9214-c22c4875442f",
   "metadata": {},
   "source": [
    "### Checking what the model output is compared to the Scikit learn model output"
   ]
  },
  {
   "cell_type": "code",
   "execution_count": 79,
   "id": "7e545cd3-aee6-4077-a928-5c0f6dadaf32",
   "metadata": {},
   "outputs": [
    {
     "name": "stdout",
     "output_type": "stream",
     "text": [
      "1/1 [==============================] - 0s 39ms/step\n",
      "['0.00' '63.49' '0.00' '34.11' '0.08' '0.58' '1.53' '0.00' '0.11' '0.00'\n",
      " '0.00' '0.03' '0.00' '0.00' '0.00' '0.05' '0.00' '0.02' '0.00' '0.01']\n",
      "<class 'numpy.ndarray'>\n",
      "(20,)\n"
     ]
    }
   ],
   "source": [
    "percentages = np.round(cnn.predict(np.expand_dims(X_test[8], axis=0))[0]*100,decimals=2)\n",
    "\n",
    "converted_array = np.array([(\"{:.2f}\".format(number)) for number in percentages])\n",
    "\n",
    "print(converted_array)\n",
    "print(type(converted_array))\n",
    "print(converted_array.shape)\n"
   ]
  },
  {
   "cell_type": "code",
   "execution_count": 27,
   "id": "0abaa60c-c600-416c-8e7b-7e82453395b0",
   "metadata": {},
   "outputs": [
    {
     "name": "stdout",
     "output_type": "stream",
     "text": [
      "1\n",
      "<class 'numpy.int64'>\n"
     ]
    }
   ],
   "source": [
    "# using argmax to provide the index of the maximum value in each row of the test image\n",
    "\n",
    "prediction = np.argmax(converted_array)\n",
    "\n",
    "print(prediction)\n",
    "print(type(prediction))\n"
   ]
  },
  {
   "cell_type": "code",
   "execution_count": 28,
   "id": "1d97261a-5bca-4e0d-ba68-e244e10de110",
   "metadata": {},
   "outputs": [
    {
     "data": {
      "text/plain": [
       "{'alex albon': 0,\n",
       " 'carlos sainz': 1,\n",
       " 'charles leclerc': 2,\n",
       " 'daniel ricciardo': 3,\n",
       " 'esteban ocon': 4,\n",
       " 'fernando alonso': 5,\n",
       " 'george russell': 6,\n",
       " 'kevin magnussen': 7,\n",
       " 'lance stroll': 8,\n",
       " 'lando norris': 9,\n",
       " 'lewis hamilton': 10,\n",
       " 'logan sargeant': 11,\n",
       " 'max verstappen': 12,\n",
       " 'nico hulkenberg': 13,\n",
       " 'oscar piastri': 14,\n",
       " 'pierre gasly': 15,\n",
       " 'sergio perez': 16,\n",
       " 'valtteri bottas': 17,\n",
       " 'yuki tsunoda': 18,\n",
       " 'zhou guanyu': 19}"
      ]
     },
     "execution_count": 28,
     "metadata": {},
     "output_type": "execute_result"
    }
   ],
   "source": [
    "class_dict"
   ]
  },
  {
   "cell_type": "code",
   "execution_count": null,
   "id": "741aea9a-25ca-4b12-80dd-1ba9aa3cf01c",
   "metadata": {},
   "outputs": [],
   "source": []
  },
  {
   "cell_type": "markdown",
   "id": "ebdf3ef7-9a6d-4479-a906-016729dc6104",
   "metadata": {},
   "source": [
    "### Creating a function to compare the predicted image vs the actual image"
   ]
  },
  {
   "cell_type": "code",
   "execution_count": 29,
   "id": "863fa649-4679-494e-bcf0-9f2b59a490fb",
   "metadata": {},
   "outputs": [],
   "source": [
    "def get_key_from_value(dictionary, value):\n",
    "    for key, val in dictionary.items():\n",
    "        if val == value:\n",
    "            return key\n",
    "    return None  # Return None if the value is not found in the dictionary"
   ]
  },
  {
   "cell_type": "code",
   "execution_count": 61,
   "id": "cea872b3-573d-462c-a1ca-c3f437bcdf0d",
   "metadata": {},
   "outputs": [],
   "source": [
    "def check_output(x):\n",
    "    \n",
    "    # getting the output from the CNN model\n",
    "    \n",
    "    percentages = np.round(cnn.predict(np.expand_dims(X_test[x], axis=0))[0]*100,decimals=2)\n",
    "    \n",
    "    highest_perc = np.max(percentages)\n",
    "    \n",
    "\n",
    "    converted_array = np.array([(\"{:.2f}\".format(number)) for number in percentages])\n",
    "    \n",
    "    converted_highest_perc = \"{:.2f}%\".format(highest_perc)\n",
    "\n",
    "    \n",
    "    prediction = np.argmax(converted_array)\n",
    "    \n",
    "    driver_name = f\"The predicted driver is {get_key_from_value(class_dict,prediction)} with a {converted_highest_perc} probability\"\n",
    "    \n",
    "    plot_sample(X_test,y_test,class_dict,x) \n",
    "    \n",
    "    return driver_name\n"
   ]
  },
  {
   "cell_type": "code",
   "execution_count": 97,
   "id": "315e23cc-dfc6-444e-8fff-a11039b6020c",
   "metadata": {},
   "outputs": [
    {
     "name": "stdout",
     "output_type": "stream",
     "text": [
      "1/1 [==============================] - 0s 50ms/step\n"
     ]
    },
    {
     "data": {
      "text/plain": [
       "'The predicted driver is kevin magnussen with a 99.37% probability'"
      ]
     },
     "execution_count": 97,
     "metadata": {},
     "output_type": "execute_result"
    },
    {
     "data": {
      "image/png": "[encoded data removed]",
      "text/plain": [
       "<Figure size 1080x216 with 1 Axes>"
      ]
     },
     "metadata": {
      "needs_background": "light"
     },
     "output_type": "display_data"
    }
   ],
   "source": [
    "check_output(21)"
   ]
  },
  {
   "cell_type": "code",
   "execution_count": null,
   "id": "41724cb8-9292-4648-9a80-4c737900fec8",
   "metadata": {},
   "outputs": [],
   "source": []
  },
  {
   "cell_type": "code",
   "execution_count": null,
   "id": "4d7f921b-86ca-45fb-af4a-5e8d93fb9a07",
   "metadata": {},
   "outputs": [],
   "source": []
  }
 ],
 "metadata": {
  "kernelspec": {
   "display_name": "Python 3 (ipykernel)",
   "language": "python",
   "name": "python3"
  },
  "language_info": {
   "codemirror_mode": {
    "name": "ipython",
    "version": 3
   },
   "file_extension": ".py",
   "mimetype": "text/x-python",
   "name": "python",
   "nbconvert_exporter": "python",
   "pygments_lexer": "ipython3",
   "version": "3.9.12"
  }
 },
 "nbformat": 4,
 "nbformat_minor": 5
}
